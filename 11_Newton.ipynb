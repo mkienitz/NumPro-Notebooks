{
 "cells": [
  {
   "cell_type": "code",
   "execution_count": null,
   "id": "26d424a1",
   "metadata": {},
   "outputs": [],
   "source": [
    "import numpy as np\n",
    "import matplotlib.pyplot as plt\n",
    "%matplotlib notebook"
   ]
  },
  {
   "cell_type": "code",
   "execution_count": null,
   "id": "6bee8240",
   "metadata": {},
   "outputs": [],
   "source": [
    "def f(x):\n",
    "    return x**2 - 2 * x - 3\n",
    "\n",
    "def df(x):\n",
    "    return 2*x - 2\n",
    "\n",
    "x = np.linspace(-5, 5, 100)\n",
    "y = f(x)\n",
    "plt.plot(x,y)\n",
    "plt.grid()\n",
    "plt.show()"
   ]
  },
  {
   "cell_type": "code",
   "execution_count": null,
   "id": "f67f74a9",
   "metadata": {},
   "outputs": [],
   "source": [
    "def newton(x0, f, df, n=4):\n",
    "    x_it = x0\n",
    "    for i in range(n):\n",
    "        x_it = x_it - f(x_it) / df(x_it)\n",
    "    return x_it    \n",
    "\n",
    "print(newton(2, f, df))\n",
    "print(newton(-2, f, df))"
   ]
  },
  {
   "cell_type": "code",
   "execution_count": null,
   "id": "1a336b03",
   "metadata": {},
   "outputs": [],
   "source": [
    "from matplotlib.animation import FuncAnimation\n",
    "\n",
    "def newton_plot(x0, f, df, n=4):\n",
    "    x_it = np.zeros(n)\n",
    "    values = np.zeros(n)\n",
    "    derivatives = np.zeros(n)\n",
    "    x_it[0] = x0\n",
    "    values[0] = f(x0)\n",
    "    derivatives[0] = df(x0)\n",
    "    for i in range(n-1):\n",
    "        x_it[i+1] = x_it[i] - values[i] / derivatives[i]\n",
    "        values[i+1] = f(x_it[i+1])\n",
    "        derivatives[i+1] = df(x_it[i+1])\n",
    "    return x_it, values, derivatives\n",
    "\n",
    "n = 10\n",
    "x_it, values, derivatives = newton_plot(2, f, df,  n)\n",
    "\n",
    "fig, ax = plt.subplots()\n",
    "f_line, = ax.plot([])\n",
    "a_line, = ax.plot([])\n",
    "p_line, = ax.plot([], '.')\n",
    "a_text = ax.text(-3, 15, \"a\")\n",
    "\n",
    "ax.set_ylim(-20, 20)\n",
    "ax.set_xlim(-4,4)\n",
    "ax.grid(True)\n",
    "\n",
    "def animate(frame_num):\n",
    "    x_domain = np.linspace(-4, 4, 100)\n",
    "    y_function = f(x_domain)\n",
    "    f_line.set_data(x_domain, y_function)\n",
    "    y_line = values[frame_num] + (x_domain - x_it[frame_num]) * derivatives[frame_num]\n",
    "    a_line.set_data((x_domain, y_line))\n",
    "    p_line.set_data(([x_it[frame_num], x_it[frame_num] - values[frame_num] / derivatives[frame_num]], [values[frame_num], 0]))\n",
    "    a_text.set_text(f\"iteration {frame_num}\\nx_it = {x_it[frame_num]}\\nf(x_it)={values[frame_num]}\")\n",
    "    return f_line, a_line, p_line, a_text\n",
    "anim = FuncAnimation(fig, animate, frames=n, interval=500)\n",
    "plt.show()"
   ]
  }
 ],
 "metadata": {
  "kernelspec": {
   "display_name": "Python 3",
   "language": "python",
   "name": "python3"
  },
  "language_info": {
   "codemirror_mode": {
    "name": "ipython",
    "version": 3
   },
   "file_extension": ".py",
   "mimetype": "text/x-python",
   "name": "python",
   "nbconvert_exporter": "python",
   "pygments_lexer": "ipython3",
   "version": "3.9.13"
  }
 },
 "nbformat": 4,
 "nbformat_minor": 5
}
