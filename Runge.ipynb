{
 "cells": [
  {
   "cell_type": "code",
   "execution_count": null,
   "id": "e7361ccc",
   "metadata": {},
   "outputs": [],
   "source": [
    "# load some modules\n",
    "import numpy as np\n",
    "import matplotlib.pyplot as plt\n",
    "import scipy.interpolate as sp_int\n",
    "%matplotlib inline\n",
    "\n",
    "# define runge function and plot it\n",
    "def runge(x):\n",
    "    return 1 / (1 + 25 * np.power(x, 2))\n",
    "\n",
    "x = np.linspace(-1,1,101)\n",
    "\n",
    "plt.plot(x,runge(x))\n",
    "plt.show()\n",
    "\n",
    "# plot function and its interpolant as well as the interpolation points\n",
    "def plot(x, f, G, x_0, y_0):\n",
    "    plt.scatter(x_0, y_0)\n",
    "    plt.plot(x,f(x), label=\"f\")\n",
    "    plt.plot(x,G(x), label=\"G\")\n",
    "    plt.legend()\n",
    "    plt.show()"
   ]
  },
  {
   "cell_type": "code",
   "execution_count": null,
   "id": "eb5db7a0",
   "metadata": {},
   "outputs": [],
   "source": [
    "# setup equidistant interpolation points\n",
    "n = 5\n",
    "x_0 = np.linspace(-1,1,n)\n",
    "y_0 = runge(x_0)\n",
    "\n",
    "# polynomial interpolation\n",
    "# note on barycentric interpolation: This is a specialized form of lagrange interpolation\n",
    "G = sp_int.BarycentricInterpolator(x_0, y_0)\n",
    "\n",
    "# plotting\n",
    "plot(x, runge, G, x_0, y_0)"
   ]
  },
  {
   "cell_type": "code",
   "execution_count": null,
   "id": "5c83cf33",
   "metadata": {},
   "outputs": [],
   "source": [
    "# setup tchebychef interpolation points\n",
    "n = 5\n",
    "k = np.arange(1,n+1)\n",
    "x_0 = np.cos((2*k-1) / (2*n) * np.pi)\n",
    "y_0 = runge(x_0)\n",
    "\n",
    "# polynomial interpolation\n",
    "G = sp_int.BarycentricInterpolator(x_0, y_0)\n",
    "\n",
    "# plotting\n",
    "plot(x, runge, G, x_0, y_0)"
   ]
  },
  {
   "cell_type": "code",
   "execution_count": null,
   "id": "8a0a4f32",
   "metadata": {},
   "outputs": [],
   "source": [
    "# setup equidistant interpolation points\n",
    "n = 5\n",
    "x_0 = np.linspace(-1,1,n)\n",
    "y_0 = runge(x_0)\n",
    "\n",
    "# linear splines\n",
    "G = sp_int.interp1d(x_0, y_0)\n",
    "\n",
    "# plotting\n",
    "plot(x, runge, G, x_0, y_0)"
   ]
  }
 ],
 "metadata": {
  "kernelspec": {
   "display_name": "Python 3",
   "language": "python",
   "name": "python3"
  },
  "language_info": {
   "codemirror_mode": {
    "name": "ipython",
    "version": 3
   },
   "file_extension": ".py",
   "mimetype": "text/x-python",
   "name": "python",
   "nbconvert_exporter": "python",
   "pygments_lexer": "ipython3",
   "version": "3.9.5"
  }
 },
 "nbformat": 4,
 "nbformat_minor": 5
}
