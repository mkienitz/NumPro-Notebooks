{
 "cells": [
  {
   "cell_type": "code",
   "execution_count": null,
   "id": "9b837277",
   "metadata": {},
   "outputs": [],
   "source": [
    "import numpy as np\n",
    "import matplotlib.pyplot as plt\n",
    "from scipy.optimize import fsolve\n",
    "%matplotlib inline"
   ]
  },
  {
   "cell_type": "code",
   "execution_count": null,
   "id": "936f513f",
   "metadata": {},
   "outputs": [],
   "source": [
    "# berechnet einen Schritt mit dem Expliziten Eulerverfahren\n",
    "def expl_euler(y, t, dt, f):\n",
    "    return y + dt * f(t, y)\n",
    "\n",
    "# berechnet einen Schritt mit dem Expliziten Eulerverfahren\n",
    "def impl_euler(y, t, dt, f):\n",
    "    # y_k = y\n",
    "    # y_{k+1} = x\n",
    "    g = lambda x: (x - y) / dt - f(t + dt, x)\n",
    "    y_new = fsolve(g, y)\n",
    "    return y_new\n",
    "    \n",
    "# berechnet die Nährerungslösung für y(t) mit einem beliebigen Einschrittverfahren\n",
    "def zeitintegration(y_0, t, f, verfahren):\n",
    "    n = t.shape[0]\n",
    "    y = np.zeros(n)\n",
    "    y[0] = y_0\n",
    "    for i in range(0, n-1):\n",
    "        dt = t[i+1] - t[i]\n",
    "        y[i+1] = verfahren(y[i], t[i], dt, f)\n",
    "    return y"
   ]
  },
  {
   "cell_type": "code",
   "execution_count": null,
   "id": "ffefd732",
   "metadata": {},
   "outputs": [],
   "source": [
    "# rechte Seite wie in Aufgabe 2\n",
    "def f(t, y):\n",
    "    return -12 * y**2\n",
    "\n",
    "# analytische Lösung für Aufgabe 2\n",
    "def y(t):\n",
    "    return 1.0 / (12*t - 11)"
   ]
  },
  {
   "cell_type": "code",
   "execution_count": null,
   "id": "ff452eca",
   "metadata": {},
   "outputs": [],
   "source": [
    "t = np.linspace(1.0, 1.5, 8)\n",
    "y_ref = y(t)\n",
    "\n",
    "y_0 = y(1)\n",
    "y_expl = zeitintegration(y_0, t, f, expl_euler)\n",
    "y_impl = zeitintegration(y_0, t, f, impl_euler)\n",
    "    \n",
    "plt.plot(t, y_ref, label=\"Ref\")\n",
    "plt.plot(t, y_expl, label=\"Expliziter Euler\")\n",
    "plt.plot(t, y_impl, label=\"Impliziter Euler\")\n",
    "plt.legend()\n",
    "plt.show()"
   ]
  }
 ],
 "metadata": {
  "kernelspec": {
   "display_name": "Python 3",
   "language": "python",
   "name": "python3"
  },
  "language_info": {
   "codemirror_mode": {
    "name": "ipython",
    "version": 3
   },
   "file_extension": ".py",
   "mimetype": "text/x-python",
   "name": "python",
   "nbconvert_exporter": "python",
   "pygments_lexer": "ipython3",
   "version": "3.9.13"
  }
 },
 "nbformat": 4,
 "nbformat_minor": 5
}
