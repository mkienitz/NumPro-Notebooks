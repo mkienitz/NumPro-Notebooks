{
 "cells": [
  {
   "cell_type": "code",
   "execution_count": null,
   "id": "9b837277",
   "metadata": {},
   "outputs": [],
   "source": [
    "import numpy as np\n",
    "import matplotlib.pyplot as plt\n",
    "%matplotlib inline"
   ]
  },
  {
   "cell_type": "code",
   "execution_count": null,
   "id": "936f513f",
   "metadata": {},
   "outputs": [],
   "source": [
    "# berechnet einen Schritt mit dem Expliziten Eulerverfahren\n",
    "def euler(y, t, dt, f):\n",
    "    return y + dt * f(t, y)\n",
    "\n",
    "# berechnet einen Schritt mit dem Verfahren von Heun\n",
    "def heun(y, t, dt, f):\n",
    "    f_eval = f(t, y)\n",
    "    y_ = y + dt * f_eval\n",
    "    return y + 0.5 * dt * (f_eval + f(t + dt, y_))\n",
    "\n",
    "# berechnet einen Schritt mit dem klassischen Runge-Kutta Verfahren\n",
    "def runge_4(y, t, dt, f):\n",
    "    T_1 = f(t, y)\n",
    "    T_2 = f(t + 0.5 * dt, y + 0.5 * dt * T_1)\n",
    "    T_3 = f(t + 0.5 * dt, y + 0.5 * dt * T_2)\n",
    "    T_4 = f(t + dt, y + dt * T_3)\n",
    "    return y + dt / 6. * (T_1 + 2 * T_2 + 2 * T_3 + T_4)\n",
    "\n",
    "# berechnet die Nährerungslösung für y(t) mit einem beliebigen Einschrittverfahren\n",
    "def zeitintegration(y_0, t, f, verfahren):\n",
    "    n = t.shape[0]\n",
    "    y = np.zeros(n)\n",
    "    y[0] = y_0\n",
    "    for i in range(0, n-1):\n",
    "        dt = t[i+1] - t[i]\n",
    "        y[i+1] = verfahren(y[i], t[i], dt, f)\n",
    "    return y"
   ]
  },
  {
   "cell_type": "code",
   "execution_count": null,
   "id": "ffefd732",
   "metadata": {},
   "outputs": [],
   "source": [
    "# rechte Seite wie in Aufgabe 2\n",
    "def f(t, y):\n",
    "    return t * y\n",
    "\n",
    "# analytische Lösung für Aufgabe 2\n",
    "def y(t):\n",
    "    return np.exp(0.5*t*t)"
   ]
  },
  {
   "cell_type": "code",
   "execution_count": null,
   "id": "ff452eca",
   "metadata": {},
   "outputs": [],
   "source": [
    "# Anzahl der Intervalle\n",
    "n = 4\n",
    "t = np.linspace(0,4,n+1,endpoint=True)\n",
    "y_ref = y(t)\n",
    "\n",
    "y_0 = y(0)\n",
    "y_euler = zeitintegration(y_0, t, f, euler)\n",
    "y_heun = zeitintegration(y_0, t, f, heun)\n",
    "y_runge_4 = zeitintegration(y_0, t, f, runge_4)\n",
    "    \n",
    "plt.plot(t, y_ref, label=\"Ref\")\n",
    "plt.plot(t, y_euler, label=\"Euler\")\n",
    "plt.plot(t, y_heun, label=\"Heun\")\n",
    "plt.plot(t, y_runge_4, label=\"Runge 4\")\n",
    "plt.legend()\n",
    "plt.show()"
   ]
  },
  {
   "cell_type": "code",
   "execution_count": null,
   "id": "6bd15e93",
   "metadata": {},
   "outputs": [],
   "source": [
    "def errors(n):\n",
    "    t = np.linspace(0,4,n+1,endpoint=True)\n",
    "    y_ref = y(t)\n",
    "    \n",
    "    y_0 = y(0)\n",
    "    y_euler = zeitintegration(y_0, t, f, euler)\n",
    "    y_heun = zeitintegration(y_0, t, f, heun)\n",
    "    y_runge_4 = zeitintegration(y_0, t, f, runge_4)\n",
    "    \n",
    "    error_euler = np.abs(y_euler[-1] - y_ref[-1])\n",
    "    error_heun = np.abs(y_heun[-1] - y_ref[-1])\n",
    "    error_runge_4 = np.abs(y_runge_4[-1] - y_ref[-1])\n",
    "    return {\"euler\": error_euler, \"heun\": error_heun, \"runge_4\": error_runge_4}\n",
    "\n",
    "print(errors(128))\n",
    "print(errors(256))\n",
    "print(errors(512))"
   ]
  }
 ],
 "metadata": {
  "kernelspec": {
   "display_name": "Python 3 (ipykernel)",
   "language": "python",
   "name": "python3"
  },
  "language_info": {
   "codemirror_mode": {
    "name": "ipython",
    "version": 3
   },
   "file_extension": ".py",
   "mimetype": "text/x-python",
   "name": "python",
   "nbconvert_exporter": "python",
   "pygments_lexer": "ipython3",
   "version": "3.11.0"
  }
 },
 "nbformat": 4,
 "nbformat_minor": 5
}
