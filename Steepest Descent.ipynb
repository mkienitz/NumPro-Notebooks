{
 "cells": [
  {
   "cell_type": "code",
   "execution_count": null,
   "id": "ac530351",
   "metadata": {},
   "outputs": [],
   "source": [
    "import numpy as np\n",
    "import matplotlib.pyplot as plt\n",
    "%matplotlib notebook\n",
    "\n",
    "\n",
    "A = np.array([[2,-2], [-2, 6]])\n",
    "b = np.array([0, -4])\n",
    "\n",
    "print(\"Exakte Lösung = \", np.linalg.solve(A, b))\n",
    "\n",
    "def f(x, y):\n",
    "    return 0.5 * (A[0,0] * x**2 + A[0,1] * X * Y + A[1,0] * X * Y + A[1,1] * Y**2) - b[0] * X - b[1] * Y\n",
    "\n",
    "x = np.linspace(-3, 1, 101)\n",
    "y = np.linspace(-3, 1, 101)\n",
    "X, Y = np.meshgrid(x, y)\n",
    "Z = f(X,Y)\n",
    "plt.contour(X, Y, Z, levels=40)\n",
    "plt.show()"
   ]
  },
  {
   "cell_type": "code",
   "execution_count": null,
   "id": "7d486d91",
   "metadata": {},
   "outputs": [],
   "source": [
    "### Methode des steilsten Abstiegs\n",
    "def steepest_descent(x_0, N):\n",
    "    x = np.zeros((2, N))\n",
    "    x[:,0] = x_0\n",
    "    for i in range(N-1):\n",
    "        r = b - np.dot(A, x[:, i])\n",
    "        alpha = np.dot(r.T, r) / np.dot(r.T, np.dot(A, r))\n",
    "        x[:, i+1] =  x[:, i] + alpha * r\n",
    "    return x\n",
    "\n",
    "N = 10\n",
    "x = steepest_descent(np.array([1.0, 0.0]), N)\n",
    "plt.plot(x[0,:], x[1,:])\n",
    "plt.show()"
   ]
  },
  {
   "cell_type": "code",
   "execution_count": null,
   "id": "90af8e86",
   "metadata": {},
   "outputs": [],
   "source": [
    "### CG Verfahren\n",
    "def cg(x_0, N):\n",
    "    x = np.zeros((2, N))\n",
    "    x[:,0] = x_0\n",
    "    residual = b - np.dot(A, x[:,0])\n",
    "    residual_norm_squared = np.dot(residual.T, residual)\n",
    "    direction = np.copy(residual)\n",
    "    for i in range(N-1):\n",
    "        A_d = np.dot(A, direction)\n",
    "        alpha = residual_norm_squared / np.dot(direction.T, A_d)\n",
    "        x[:,i+1] = x[:,i] + alpha * direction\n",
    "        residual -= alpha * A_d\n",
    "        old_residual_norm_squared = residual_norm_squared\n",
    "        residual_norm_squared = np.dot(residual.T, residual)\n",
    "        beta = residual_norm_squared / old_residual_norm_squared\n",
    "        direction = residual + beta * direction\n",
    "    return x\n",
    "\n",
    "N = 10\n",
    "x = cg(np.array([1.0, 0]), N)\n",
    "# Das CG Verfahren findet innerhalb von zwei Schritten die exakte Lösung.\n",
    "print(x)\n",
    "plt.plot(x[0,:], x[1,:])\n",
    "plt.show()"
   ]
  },
  {
   "cell_type": "code",
   "execution_count": null,
   "id": "05f579f5",
   "metadata": {},
   "outputs": [],
   "source": []
  }
 ],
 "metadata": {
  "kernelspec": {
   "display_name": "Python 3",
   "language": "python",
   "name": "python3"
  },
  "language_info": {
   "codemirror_mode": {
    "name": "ipython",
    "version": 3
   },
   "file_extension": ".py",
   "mimetype": "text/x-python",
   "name": "python",
   "nbconvert_exporter": "python",
   "pygments_lexer": "ipython3",
   "version": "3.9.13"
  }
 },
 "nbformat": 4,
 "nbformat_minor": 5
}
