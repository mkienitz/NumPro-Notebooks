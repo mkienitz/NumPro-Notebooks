{
 "cells": [
  {
   "cell_type": "code",
   "execution_count": 26,
   "id": "4dfe7de2",
   "metadata": {},
   "outputs": [],
   "source": [
    "import numpy as np\n",
    "\n",
    "def power(A, x_0, shift=0, n=10, epsilon=1e-8):\n",
    "    B = A - shift * np.eye(A.shape[0])\n",
    "    x_k = x_0\n",
    "    for k in range(n):\n",
    "        print(x_k)\n",
    "        w_k = np.dot(B, x_k)\n",
    "        lambda_k = np.dot(x_k.T, w_k)\n",
    "        x_k = w_k / np.linalg.norm(w_k)\n",
    "        if np.linalg.norm(w_k - np.abs(lambda_k) * x_k) < epsilon * np.linalg.norm(w_k):\n",
    "            break\n",
    "    return lambda_k+shift, x_k"
   ]
  },
  {
   "cell_type": "code",
   "execution_count": 27,
   "id": "fefff5ab",
   "metadata": {},
   "outputs": [
    {
     "name": "stdout",
     "output_type": "stream",
     "text": [
      "[[3 1]\n",
      " [1 3]]\n"
     ]
    }
   ],
   "source": [
    "A = np.array([[3,1],[1,3]])\n",
    "print(A)"
   ]
  },
  {
   "cell_type": "code",
   "execution_count": 32,
   "id": "aaa02c1e",
   "metadata": {},
   "outputs": [
    {
     "name": "stdout",
     "output_type": "stream",
     "text": [
      "[1 0]\n",
      "[-0.89442719  0.4472136 ]\n",
      "[ 0.78086881 -0.62469505]\n",
      "[-0.73279349  0.6804511 ]\n",
      "[ 0.71578195 -0.69832385]\n",
      "[-0.71001067  0.70419091]\n",
      "[ 0.70807608 -0.70613615]\n",
      "[-0.70743003  0.70678338]\n",
      "[ 0.70721455 -0.706999  ]\n"
     ]
    },
    {
     "data": {
      "text/plain": [
       "(2.000000046461145, array([-0.70714271,  0.70707086]))"
      ]
     },
     "execution_count": 32,
     "metadata": {},
     "output_type": "execute_result"
    }
   ],
   "source": [
    "s = 5.0\n",
    "power(A, np.array([1,0]), shift=s, n=100)"
   ]
  }
 ],
 "metadata": {
  "kernelspec": {
   "display_name": "Python 3",
   "language": "python",
   "name": "python3"
  },
  "language_info": {
   "codemirror_mode": {
    "name": "ipython",
    "version": 3
   },
   "file_extension": ".py",
   "mimetype": "text/x-python",
   "name": "python",
   "nbconvert_exporter": "python",
   "pygments_lexer": "ipython3",
   "version": "3.9.13"
  }
 },
 "nbformat": 4,
 "nbformat_minor": 5
}
