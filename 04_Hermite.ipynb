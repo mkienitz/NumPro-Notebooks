{
 "cells": [
  {
   "cell_type": "code",
   "execution_count": null,
   "id": "00bef44a",
   "metadata": {},
   "outputs": [],
   "source": [
    "import matplotlib.pyplot as plt\n",
    "import numpy as np\n",
    "%matplotlib inline"
   ]
  },
  {
   "cell_type": "code",
   "execution_count": null,
   "id": "e4a3e307",
   "metadata": {},
   "outputs": [],
   "source": [
    "# Setup sine function and it's derivative\n",
    "def f(x):\n",
    "    return np.sin(np.pi*x)\n",
    "\n",
    "def f_deriv(x):\n",
    "    return np.pi * np.cos(np.pi*x)\n",
    "\n",
    "# Plot f\n",
    "x = np.linspace(0,2,101)\n",
    "y = f(x)\n",
    "\n",
    "plt.plot(x,y)\n",
    "plt.show()\n",
    "\n",
    "# Plot function and its interpolant as well as the interpolation points.\n",
    "def plot(x, f, G, x_0, y_0):\n",
    "    plt.scatter(x_0, y_0)\n",
    "    plt.plot(x,f(x), label=\"f\")\n",
    "    plt.plot(x,G(x), label=\"G\")\n",
    "    plt.legend()\n",
    "    plt.show()"
   ]
  },
  {
   "cell_type": "code",
   "execution_count": null,
   "id": "a01177eb",
   "metadata": {},
   "outputs": [],
   "source": [
    "# Evaluate the 4 Hermite basis functions at the given point(s) x.\n",
    "def hermite_basis(x):\n",
    "    return np.vstack([1 - 3*np.power(x,2) + 2*np.power(x,3), \n",
    "                      3*np.power(x,2) - 2*np.power(x,3),\n",
    "                     x - 2*np.power(x,2) + np.power(x,3),\n",
    "                     -np.power(x,2) + np.power(x,3)])\n",
    "\n",
    "# Evaluate the hermite interpolation polynomial on the unit interval [0, 1]\n",
    "# y_0[0] = f(0), y_0[1] = f(1), y_0_deriv[0] = f'(0), y_0_deriv[1] = f'(1)\n",
    "def hermite_interp_0_1(y_0, y_0_deriv, x):\n",
    "    [h_0, h_1, h_2, h_3] = hermite_basis(x)\n",
    "    return y_0[0] * h_0 + \\\n",
    "           y_0[1] * h_1 + \\\n",
    "           y_0_deriv[0] * h_2 + \\\n",
    "           y_0_deriv[1] * h_3\n",
    "\n",
    "# Evaluate the hermite interpolation polynomial given by the points x_0, y_0 with derivatives y_0_deriv at x\n",
    "def hermite_interp(x_0, y_0, y_0_deriv, x):\n",
    "    y = np.zeros(x.shape)\n",
    "    for i, xi in enumerate(x):\n",
    "        # Check whether xi is an interpolation point\n",
    "        possible_index = np.where(np.abs(xi - x_0) < 1e-8)[0]\n",
    "        if len(possible_index) > 0:\n",
    "            y[i] = y_0[possible_index[0]]\n",
    "        else:\n",
    "            lower_end = np.max(np.where(x_0 < xi))\n",
    "            upper_end = np.min(np.where(x_0 > xi))\n",
    "            h = x_0[upper_end] - x_0[lower_end]\n",
    "            y_interval = y_0[[lower_end, upper_end]]\n",
    "            y_interval_deriv = y_0_deriv[[lower_end, upper_end]] * h\n",
    "            y[i] = hermite_interp_0_1(y_interval, y_interval_deriv, (xi - x_0[lower_end]) / h)\n",
    "    return y\n",
    "    \n",
    "x_0 = np.array([0,1,1.7,2])\n",
    "y_0 = f(x_0)\n",
    "y_0_deriv = f_deriv(x_0)\n",
    "\n",
    "# Create a function to evaluate the interpolating polynomial more easily.\n",
    "G = lambda x: hermite_interp(x_0, y_0, y_0_deriv, x)\n",
    "\n",
    "plot(x, f, G, x_0, y_0)"
   ]
  },
  {
   "cell_type": "code",
   "execution_count": null,
   "id": "482a193a",
   "metadata": {},
   "outputs": [],
   "source": []
  }
 ],
 "metadata": {
  "kernelspec": {
   "display_name": "Python 3",
   "language": "python",
   "name": "python3"
  },
  "language_info": {
   "codemirror_mode": {
    "name": "ipython",
    "version": 3
   },
   "file_extension": ".py",
   "mimetype": "text/x-python",
   "name": "python",
   "nbconvert_exporter": "python",
   "pygments_lexer": "ipython3",
   "version": "3.9.12"
  }
 },
 "nbformat": 4,
 "nbformat_minor": 5
}
