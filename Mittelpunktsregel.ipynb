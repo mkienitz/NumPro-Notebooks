{
 "cells": [
  {
   "cell_type": "code",
   "execution_count": 1,
   "id": "b5e2bc21",
   "metadata": {},
   "outputs": [],
   "source": [
    "import numpy as np\n",
    "import matplotlib.pyplot as plt\n",
    "%matplotlib inline\n",
    "\n",
    "def f(y):\n",
    "    return -y\n",
    "\n",
    "def expliziter_euler_schritt(y_0, dt, f):\n",
    "    return y_0 + dt * f(y_0)\n",
    "\n",
    "def mittelpunktsregel_schritt(y_0, y_1, dt, f):\n",
    "    return y_0 + 2 * dt * f(y_1)"
   ]
  },
  {
   "cell_type": "code",
   "execution_count": 32,
   "id": "e63df147",
   "metadata": {},
   "outputs": [
    {
     "data": {
      "text/plain": [
       "[<matplotlib.lines.Line2D at 0x7f1b74d1c760>]"
      ]
     },
     "execution_count": 32,
     "metadata": {},
     "output_type": "execute_result"
    },
    {
     "data": {
      "image/png": "[encoded data removed]",
      "text/plain": [
       "<Figure size 432x288 with 1 Axes>"
      ]
     },
     "metadata": {
      "needs_background": "light"
     },
     "output_type": "display_data"
    }
   ],
   "source": [
    "T = 48\n",
    "N = 8000000\n",
    "\n",
    "dt = T / (N-1)\n",
    "loesung = np.zeros(N)\n",
    "loesung[0] = 1\n",
    "loesung[1] = expliziter_euler_schritt(loesung[0], dt, f)\n",
    "for i in range(2, N):\n",
    "    loesung[i] = mittelpunktsregel_schritt(loesung[i-2], loesung[i-1], dt, f)\n",
    "    #loesung[i] = expliziter_euler_schritt(loesung[i-1], dt, f)\n",
    "    \n",
    "t = np.linspace(0, T, N)\n",
    "plt.plot(t, loesung)\n",
    "plt.plot(t, np.exp(-t))"
   ]
  }
 ],
 "metadata": {
  "kernelspec": {
   "display_name": "Python 3",
   "language": "python",
   "name": "python3"
  },
  "language_info": {
   "codemirror_mode": {
    "name": "ipython",
    "version": 3
   },
   "file_extension": ".py",
   "mimetype": "text/x-python",
   "name": "python",
   "nbconvert_exporter": "python",
   "pygments_lexer": "ipython3",
   "version": "3.9.13"
  }
 },
 "nbformat": 4,
 "nbformat_minor": 5
}
