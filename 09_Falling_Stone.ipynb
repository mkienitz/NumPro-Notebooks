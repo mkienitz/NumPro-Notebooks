{
 "cells": [
  {
   "cell_type": "code",
   "execution_count": null,
   "id": "b52abd04",
   "metadata": {},
   "outputs": [],
   "source": [
    "import numpy as np\n",
    "import matplotlib.pyplot as plt\n",
    "%matplotlib inline"
   ]
  },
  {
   "cell_type": "code",
   "execution_count": null,
   "id": "1d270133",
   "metadata": {},
   "outputs": [],
   "source": [
    "# berechnet einen Schritt mit dem Expliziten Eulerverfahren\n",
    "def euler(y, t, dt, f):\n",
    "    return y + dt * f(t, y)\n",
    "\n",
    "# berechnet einen Schritt mit dem Verfahren von Heun\n",
    "def heun(y, t, dt, f):\n",
    "    f_eval = f(t, y)\n",
    "    y_ = y + dt * f_eval\n",
    "    return y + 0.5 * dt * (f_eval + f(t + dt, y_))\n",
    "\n",
    "# berechnet einen Schritt mit dem klassischen Runge-Kutta Verfahren\n",
    "def runge_4(y, t, dt, f):\n",
    "    T_1 = f(t, y)\n",
    "    T_2 = f(t + 0.5 * dt, y + 0.5 * dt * T_1)\n",
    "    T_3 = f(t + 0.5 * dt, y + 0.5 * dt * T_2)\n",
    "    T_4 = f(t + dt, y + dt * T_3)\n",
    "    return y + dt / 6. * (T_1 + 2 * T_2 + 2 * T_3 + T_4)\n",
    "\n",
    "# berechnet die Nährerungslösung für y(t) mit einem beliebigen Einschrittverfahren\n",
    "def zeitintegration(y_0, t, f, verfahren):\n",
    "    n = t.shape[0]\n",
    "    \n",
    "    y = np.zeros((y_0.shape[0], n))\n",
    "    y[:,0] = y_0\n",
    "    for i in range(0, n-1):\n",
    "        dt = t[i+1] - t[i]\n",
    "        y[:,i+1] = verfahren(y[:,i], t[i], dt, f)\n",
    "    return y"
   ]
  },
  {
   "cell_type": "code",
   "execution_count": null,
   "id": "7af49d34",
   "metadata": {},
   "outputs": [],
   "source": [
    "def f(t, y):\n",
    "    # f = m * a\n",
    "    # a = dv / dt\n",
    "    # v = dh / dt\n",
    "    # Zweidimensionales System mit Ort und Geschwindigkeit als Unbekannte:\n",
    "    # dh / dt = v\n",
    "    # dv / dt = a = f / m\n",
    "    mass_stone = 1.0 #kg\n",
    "    diameter_stone = 0.01 # m^2\n",
    "    \n",
    "    height = y[0]\n",
    "    velocity = y[1]\n",
    "    \n",
    "    # Stein ist am Boden aufgekommen\n",
    "    # Ort und Geschwindigkeit sind beide 0\n",
    "    if height <= 0:\n",
    "        return np.array([0.0, 0.0])\n",
    "        \n",
    "    # Gravitationsgesetz, https://de.wikipedia.org/wiki/Newtonsches_Gravitationsgesetz\n",
    "    mass_earth = 5.9722e24 #kg, https://de.wikipedia.org/wiki/Erdmasse\n",
    "    gravity_constant = 6.67430e-11 # m^3 / (kg * s^2), https://de.wikipedia.org/wiki/Gravitationskonstante\n",
    "    earth_radius = 6378137 #m, https://de.wikipedia.org/wiki/Erdradius\n",
    "    distance = earth_radius + height\n",
    "    gravity = gravity_constant * mass_stone * mass_earth / earth_radius**2\n",
    "    # Luftreibung, https://de.wikipedia.org/wiki/Str%C3%B6mungswiderstand\n",
    "    c_w = 0.45 # no unit, https://de.wikipedia.org/wiki/Str%C3%B6mungswiderstandskoeffizient\n",
    "    # https://wind-data.ch/tools/luftdichte.php\n",
    "    density_air = 1.247015 * np.exp(-height *  0.000104)\n",
    "    friction = 0.5 * c_w * diameter_stone * density_air * velocity**2\n",
    "    \n",
    "    # Reibung wirkt entgegen der Geschwindigkeit\n",
    "    force = -np.sign(velocity) * friction\n",
    "    # Gravitation wirkt immer nach unten\n",
    "    force -= gravity\n",
    "    \n",
    "    return np.array([velocity, force / mass_stone])"
   ]
  },
  {
   "cell_type": "code",
   "execution_count": null,
   "id": "f503c331",
   "metadata": {},
   "outputs": [],
   "source": [
    "# Anzahl der Intervalle\n",
    "n = 400\n",
    "t = np.linspace(0,50,n+1,endpoint=True)\n",
    "\n",
    "# Starte in 2000m Höhe, mit 20m/s vertikaler Geschwindigkeit\n",
    "y_0 = np.array([1000, 20])\n",
    "y_runge_4 = zeitintegration(y_0, t, f, runge_4)\n",
    "    \n",
    "plt.plot(t, y_runge_4[0,:], label=\"Höhe\")\n",
    "plt.plot(t, y_runge_4[1,:], label=\"Geschwindigkeit\")\n",
    "plt.xlabel(\"Zeit (s)\")\n",
    "plt.ylabel(\"Höhe (m), Geschwindigkeit (m/s)\")\n",
    "plt.legend()\n",
    "plt.show()"
   ]
  },
  {
   "cell_type": "code",
   "execution_count": null,
   "id": "365ff910",
   "metadata": {},
   "outputs": [],
   "source": []
  }
 ],
 "metadata": {
  "kernelspec": {
   "display_name": "Python 3 (ipykernel)",
   "language": "python",
   "name": "python3"
  },
  "language_info": {
   "codemirror_mode": {
    "name": "ipython",
    "version": 3
   },
   "file_extension": ".py",
   "mimetype": "text/x-python",
   "name": "python",
   "nbconvert_exporter": "python",
   "pygments_lexer": "ipython3",
   "version": "3.11.0"
  }
 },
 "nbformat": 4,
 "nbformat_minor": 5
}
